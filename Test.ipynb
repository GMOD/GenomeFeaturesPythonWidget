{
 "cells": [
  {
   "cell_type": "code",
   "execution_count": 8,
   "metadata": {},
   "outputs": [
    {
     "data": {
      "application/vnd.jupyter.widget-view+json": {
       "model_id": "6af67f7e149b495d9ad99b27521ac0e5",
       "version_major": 2,
       "version_minor": 0
      },
      "text/plain": [
       "HelloWorld(value='ASDF')"
      ]
     },
     "metadata": {},
     "output_type": "display_data"
    }
   ],
   "source": [
    "from genomefeatures import *\n",
    "HelloWorld(value='ASDF')"
   ]
  },
  {
   "cell_type": "code",
   "execution_count": 53,
   "metadata": {
    "scrolled": true
   },
   "outputs": [
    {
     "data": {
      "application/vnd.jupyter.widget-view+json": {
       "model_id": "0b0c651968a943308c31413a55183156",
       "version_major": 2,
       "version_minor": 0
      },
      "text/plain": [
       "GenomeFeature(chromosome='3', gene='sox9b', genome='Danio rerio', highlightNames=['sox9b'], title='sox9b')"
      ]
     },
     "metadata": {},
     "output_type": "display_data"
    }
   ],
   "source": [
    "from genomefeatures import *\n",
    "#GenomeFeature(location='3:62341796..62348451',genome='Danio rerio',title='sox9b',highlightNames=['sox9b','abc123'])\n",
    "GenomeFeature(chromosome='3',gene='sox9b',genome='Danio rerio',title='sox9b',highlightNames=['sox9b'])"
   ]
  },
  {
   "cell_type": "code",
   "execution_count": 54,
   "metadata": {},
   "outputs": [
    {
     "data": {
      "application/vnd.jupyter.widget-view+json": {
       "model_id": "c242de73d759497bb7757184fbe00f2c",
       "version_major": 2,
       "version_minor": 0
      },
      "text/plain": [
       "GenomeFeature(genome='Danio rerio', highlightNames=['sox7b'], location='3:62341796..62348451', title='sox9b 2'…"
      ]
     },
     "metadata": {},
     "output_type": "display_data"
    }
   ],
   "source": [
    "GenomeFeature(location='3:62341796..62348451',genome='Danio rerio',title='sox9b 2',highlightNames=['sox7b'])\n"
   ]
  },
  {
   "cell_type": "code",
   "execution_count": 57,
   "metadata": {},
   "outputs": [
    {
     "data": {
      "application/vnd.jupyter.widget-view+json": {
       "model_id": "4b9f058802c841c2ba9033387ff32a8f",
       "version_major": 2,
       "version_minor": 0
      },
      "text/plain": [
       "GenomeFeature(chromosome='3', gene='sox8b', genome='Danio rerio', highlightNames=['sox8b'], title='sox9b')"
      ]
     },
     "metadata": {},
     "output_type": "display_data"
    }
   ],
   "source": [
    "GenomeFeature(chromosome='3',gene='sox8b',genome='Danio rerio',title='sox9b',highlightNames=['sox8b'])"
   ]
  }
 ],
 "metadata": {
  "kernelspec": {
   "display_name": "Python 3",
   "language": "python",
   "name": "python3"
  },
  "language_info": {
   "codemirror_mode": {
    "name": "ipython",
    "version": 3
   },
   "file_extension": ".py",
   "mimetype": "text/x-python",
   "name": "python",
   "nbconvert_exporter": "python",
   "pygments_lexer": "ipython3",
   "version": "3.7.0"
  }
 },
 "nbformat": 4,
 "nbformat_minor": 2
}
