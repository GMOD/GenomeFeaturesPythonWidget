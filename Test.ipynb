{
 "cells": [
  {
   "cell_type": "code",
   "execution_count": 1,
   "metadata": {},
   "outputs": [
    {
     "data": {
      "application/vnd.jupyter.widget-view+json": {
       "model_id": "90b8588c33a947c9a6f6aebea8b4ba94",
       "version_major": 2,
       "version_minor": 0
      },
      "text/plain": [
       "HelloWorld(value='ASDF')"
      ]
     },
     "metadata": {},
     "output_type": "display_data"
    }
   ],
   "source": [
    "from genomefeatures import *\n",
    "HelloWorld(value='ASDF')"
   ]
  },
  {
   "cell_type": "code",
   "execution_count": 13,
   "metadata": {
    "scrolled": true
   },
   "outputs": [
    {
     "data": {
      "application/vnd.jupyter.widget-view+json": {
       "model_id": "d17a1899111f406da6099e29011f1424",
       "version_major": 2,
       "version_minor": 0
      },
      "text/plain": [
       "GenomeFeature(genome='Danio rerio', location='Chr3:62521041..62527696', title='My gene')"
      ]
     },
     "metadata": {},
     "output_type": "display_data"
    }
   ],
   "source": [
    "from genomefeatures import *\n",
    "GenomeFeature(title='My gene',genome='Danio rerio',location='Chr3:62521041..62527696')"
   ]
  }
 ],
 "metadata": {
  "kernelspec": {
   "display_name": "Python 3",
   "language": "python",
   "name": "python3"
  },
  "language_info": {
   "codemirror_mode": {
    "name": "ipython",
    "version": 3
   },
   "file_extension": ".py",
   "mimetype": "text/x-python",
   "name": "python",
   "nbconvert_exporter": "python",
   "pygments_lexer": "ipython3",
   "version": "3.7.0"
  }
 },
 "nbformat": 4,
 "nbformat_minor": 2
}
