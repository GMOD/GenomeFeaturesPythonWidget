{
 "cells": [
  {
   "cell_type": "code",
   "execution_count": 1,
   "metadata": {},
   "outputs": [
    {
     "data": {
      "application/vnd.jupyter.widget-view+json": {
       "model_id": "90b8588c33a947c9a6f6aebea8b4ba94",
       "version_major": 2,
       "version_minor": 0
      },
      "text/plain": [
       "HelloWorld(value='ASDF')"
      ]
     },
     "metadata": {},
     "output_type": "display_data"
    }
   ],
   "source": [
    "from genomefeatures import *\n",
    "HelloWorld(value='ASDF')"
   ]
  },
  {
   "cell_type": "code",
   "execution_count": 21,
   "metadata": {
    "scrolled": true
   },
   "outputs": [
    {
     "data": {
      "application/vnd.jupyter.widget-view+json": {
       "model_id": "98aae348d1764630a5b646f8080d1084",
       "version_major": 2,
       "version_minor": 0
      },
      "text/plain": [
       "GenomeFeature(genome='Danio rerio', location='3:62341796..62348451', title='sox9b')"
      ]
     },
     "metadata": {},
     "output_type": "display_data"
    }
   ],
   "source": [
    "from genomefeatures import *\n",
    "GenomeFeature(location='3:62341796..62348451',genome='Danio rerio',title='sox9b')"
   ]
  }
 ],
 "metadata": {
  "kernelspec": {
   "display_name": "Python 3",
   "language": "python",
   "name": "python3"
  },
  "language_info": {
   "codemirror_mode": {
    "name": "ipython",
    "version": 3
   },
   "file_extension": ".py",
   "mimetype": "text/x-python",
   "name": "python",
   "nbconvert_exporter": "python",
   "pygments_lexer": "ipython3",
   "version": "3.7.0"
  }
 },
 "nbformat": 4,
 "nbformat_minor": 2
}
