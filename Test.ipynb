{
 "cells": [
  {
   "cell_type": "code",
   "execution_count": 31,
   "metadata": {},
   "outputs": [
    {
     "data": {
      "text/plain": [
       "217"
      ]
     },
     "execution_count": 31,
     "metadata": {},
     "output_type": "execute_result"
    }
   ],
   "source": [
    "from genomefeatures import *\n",
    "HelloWorld(value='ASDF')\n",
    "a = 7 * 31 ;\n",
    "a"
   ]
  },
  {
   "cell_type": "code",
   "execution_count": 2,
   "metadata": {
    "scrolled": true
   },
   "outputs": [
    {
     "data": {
      "application/vnd.jupyter.widget-view+json": {
       "model_id": "b7f08bd8580f4cc08410606c3d52269c",
       "version_major": 2,
       "version_minor": 0
      },
      "text/plain": [
       "GenomeFeature(action='getServer')"
      ]
     },
     "metadata": {},
     "output_type": "display_data"
    }
   ],
   "source": [
    "from genomefeatures import *\n",
    "GenomeFeature(action='getServer')"
   ]
  },
  {
   "cell_type": "code",
   "execution_count": 24,
   "metadata": {},
   "outputs": [
    {
     "data": {
      "application/vnd.jupyter.widget-view+json": {
       "model_id": "8f7a2a51500643568cf7818a80d9ba1a",
       "version_major": 2,
       "version_minor": 0
      },
      "text/plain": [
       "GenomeFeature(genome='Danio rerio', highlightNames=['sox9b'], location='3:62341796..62348451', title='sox9b 2'…"
      ]
     },
     "metadata": {},
     "output_type": "display_data"
    }
   ],
   "source": [
    "GenomeFeature(location='3:62341796..62348451',genome='Danio rerio',title='sox9b 2',highlightNames=['sox9b'])\n"
   ]
  },
  {
   "cell_type": "code",
   "execution_count": 25,
   "metadata": {},
   "outputs": [
    {
     "data": {
      "application/vnd.jupyter.widget-view+json": {
       "model_id": "079b62e9d39442d08a140b694be553b2",
       "version_major": 2,
       "version_minor": 0
      },
      "text/plain": [
       "GenomeFeature(chromosome='3', gene='sox8b', genome='Danio rerio', highlightNames=['sox8b'], title='sox8b')"
      ]
     },
     "metadata": {},
     "output_type": "display_data"
    }
   ],
   "source": [
    "GenomeFeature(chromosome='3',gene='sox8b',genome='Danio rerio',title='sox8b',highlightNames=['sox8b'])"
   ]
  }
 ],
 "metadata": {
  "kernelspec": {
   "display_name": "Python 3",
   "language": "python",
   "name": "python3"
  },
  "language_info": {
   "codemirror_mode": {
    "name": "ipython",
    "version": 3
   },
   "file_extension": ".py",
   "mimetype": "text/x-python",
   "name": "python",
   "nbconvert_exporter": "python",
   "pygments_lexer": "ipython3",
   "version": "3.7.0"
  }
 },
 "nbformat": 4,
 "nbformat_minor": 2
}
